{
 "cells": [
  {
   "cell_type": "code",
   "execution_count": null,
   "metadata": {},
   "outputs": [],
   "source": [
    "import tarfile\n",
    "import matplotlib.pyplot as plt\n",
    "import matplotlib  \n",
    "import numpy as np\n",
    "import tensorflow as tf\n",
    "from tensorflow.keras.models import Model\n",
    "from tensorflow.keras import layers\n",
    "from sklearn.preprocessing import OneHotEncoder\n",
    "import random"
   ]
  },
  {
   "cell_type": "code",
   "execution_count": null,
   "metadata": {},
   "outputs": [],
   "source": [
    "def unpickle(file):\n",
    "    import pickle\n",
    "    print(file)\n",
    "    with open(file, 'rb') as fo:\n",
    "        dict = pickle.load(fo, encoding='bytes')\n",
    "    return dict"
   ]
  },
  {
   "cell_type": "code",
   "execution_count": null,
   "metadata": {},
   "outputs": [],
   "source": [
    "def load_data (arq_path):\n",
    "    \n",
    "    batch={}\n",
    "    batch['1']=unpickle(arq_path + '\\cifar-10-batches-py\\data_batch_1')\n",
    "    batch['2']=unpickle(arq_path + '\\cifar-10-batches-py\\data_batch_2')\n",
    "    batch['3']=unpickle(arq_path + '\\cifar-10-batches-py\\data_batch_3')\n",
    "    batch['4']=unpickle(arq_path + '\\cifar-10-batches-py\\data_batch_4')\n",
    "    batch['5']=unpickle(arq_path + '\\cifar-10-batches-py\\data_batch_5')\n",
    "    batch['test']=unpickle(arq_path + '\\cifar-10-batches-py\\/test_batch')\n",
    "    batch['labelsNames']=unpickle(arq_path + '\\cifar-10-batches-py\\\\batches.meta')\n",
    "    \n",
    "    return batch"
   ]
  },
  {
   "cell_type": "code",
   "execution_count": null,
   "metadata": {},
   "outputs": [],
   "source": [
    "def datasets_crossValitation (batch, i_train, i_crossVal=None):\n",
    "    \n",
    "    if not i_crossVal==None:\n",
    "        data_val=batch[str(i_crossVal+1)][b'data'].reshape(10000, 3, 32, 32).transpose(0,2,3,1).astype(\"uint8\")\n",
    "        data_val=data_val/255\n",
    "        label_val=np.array(batch[str(i_crossVal+1)][b'labels']).reshape(len(batch[str(i_crossVal+1)][b'data']), 1)\n",
    "        \n",
    "    data_train=np.empty((0, 32, 32, 3), int)\n",
    "    label_train=np.empty((0, 1), int)\n",
    "    for i, i_b in enumerate(i_train):\n",
    "        if not(i_b==i_crossVal):\n",
    "            data_train=np.append(data_train,batch[str(i_b+1)][b'data'].reshape(10000, 3, 32, 32).transpose(0,2,3,1).astype(\"uint8\"),axis=0)\n",
    "            label_train=np.append(label_train,np.array(batch[str(i_b+1)][b'labels']).reshape(len(batch[str(i_b+1)][b'data']), 1),axis=0)\n",
    "    data_train=data_train/255  \n",
    "    \n",
    "    data_test=batch['test'][b'data'].reshape(10000, 3, 32, 32).transpose(0,2,3,1).astype(\"uint8\")\n",
    "    data_test=data_test/255\n",
    "    label_test=np.array(batch['test'][b'labels']).reshape(len(batch['test'][b'data']), 1)\n",
    "\n",
    "    \n",
    "    if i_crossVal==None:\n",
    "        return data_train,  data_test, label_train,  label_test\n",
    "    \n",
    "    else:\n",
    "        return data_train, data_val, data_test, label_train, label_val, label_test"
   ]
  }
 ],
 "metadata": {
  "kernelspec": {
   "display_name": "Python 3",
   "language": "python",
   "name": "python3"
  },
  "language_info": {
   "codemirror_mode": {
    "name": "ipython",
    "version": 3
   },
   "file_extension": ".py",
   "mimetype": "text/x-python",
   "name": "python",
   "nbconvert_exporter": "python",
   "pygments_lexer": "ipython3",
   "version": "3.7.4"
  }
 },
 "nbformat": 4,
 "nbformat_minor": 2
}
